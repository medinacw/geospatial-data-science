{
 "cells": [
  {
   "cell_type": "code",
   "execution_count": 1,
   "id": "23eb8352",
   "metadata": {},
   "outputs": [
    {
     "name": "stdout",
     "output_type": "stream",
     "text": [
      "1.5\n"
     ]
    }
   ],
   "source": [
    "import numpy as np\n",
    "a = 3\n",
    "b = 2\n",
    "c = np.divide(a, b)\n",
    "print(c)"
   ]
  },
  {
   "cell_type": "markdown",
   "id": "31f61c9b",
   "metadata": {},
   "source": [
    "https://silverfallsstatepark.wordpress.com/tag/field-trips/\n",
    "**This** is _silver falls_ **Oregon**\n",
    "![silver falls oregon](south-falls-picture.jpg)"
   ]
  },
  {
   "cell_type": "code",
   "execution_count": null,
   "id": "fcb04152",
   "metadata": {},
   "outputs": [],
   "source": []
  }
 ],
 "metadata": {
  "kernelspec": {
   "display_name": "Python 3 (ipykernel)",
   "language": "python",
   "name": "python3"
  },
  "language_info": {
   "codemirror_mode": {
    "name": "ipython",
    "version": 3
   },
   "file_extension": ".py",
   "mimetype": "text/x-python",
   "name": "python",
   "nbconvert_exporter": "python",
   "pygments_lexer": "ipython3",
   "version": "3.9.7"
  }
 },
 "nbformat": 4,
 "nbformat_minor": 5
}
